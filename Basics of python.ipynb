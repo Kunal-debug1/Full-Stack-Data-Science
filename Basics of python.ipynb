{
 "cells": [
  {
   "cell_type": "code",
   "execution_count": 1,
   "id": "82ed1627-48a5-4e1c-b318-4992c50fdf52",
   "metadata": {},
   "outputs": [],
   "source": [
    "# What is Programming : The way of telling computer to what to do. The set of rules or instrustions which tells machines to perform certain tasks.\n",
    "# There so many languages are avaliable:\n",
    "# 1) C\n",
    "# 2) Java \n",
    "# 3) C++ \n",
    "# 4) Python \n",
    "# 5) SQL ,etc\n",
    "# Python : It is Dynamically typed, general purpose langauage that supports an object oriented programming approach as well as functional programming aproach\n",
    "#- It was created by Guido Van Rossum in 1991. They are watching a show name monty python circus on tv when he was working on python and thought why not name it as python."
   ]
  },
  {
   "cell_type": "code",
   "execution_count": 2,
   "id": "1986112a-0b47-476d-9db3-b740e44d6389",
   "metadata": {},
   "outputs": [
    {
     "name": "stdout",
     "output_type": "stream",
     "text": [
      "Hello World!\n"
     ]
    }
   ],
   "source": [
    "print(\"Hello World!\")"
   ]
  },
  {
   "cell_type": "code",
   "execution_count": 3,
   "id": "6d36a6ee-f572-4d88-84c4-cca222844dff",
   "metadata": {},
   "outputs": [
    {
     "data": {
      "text/plain": [
       "'Hello world'"
      ]
     },
     "execution_count": 3,
     "metadata": {},
     "output_type": "execute_result"
    }
   ],
   "source": [
    "\"Hello world\""
   ]
  },
  {
   "cell_type": "code",
   "execution_count": 4,
   "id": "87b7273e-2de8-4b18-9fd7-46e5bee2521d",
   "metadata": {},
   "outputs": [
    {
     "data": {
      "text/plain": [
       "'Hello World'"
      ]
     },
     "execution_count": 4,
     "metadata": {},
     "output_type": "execute_result"
    }
   ],
   "source": [
    "'Hello World'"
   ]
  },
  {
   "cell_type": "code",
   "execution_count": 5,
   "id": "64a4858b-2052-428b-9a8f-620ba3aa14af",
   "metadata": {},
   "outputs": [],
   "source": [
    "# Features of Python:\n",
    "# -It is Simple and easy.\n",
    "# -It is open source programming language.\n",
    "# -It is interpreted & platform - independent which make debugging very +\n",
    "# -It provide very big library's support.\n",
    "# -It is possible to integrate other programming languages within python"
   ]
  },
  {
   "cell_type": "code",
   "execution_count": 6,
   "id": "ae497eac-caaf-4edf-bf3a-d11967acd8bb",
   "metadata": {},
   "outputs": [
    {
     "name": "stdout",
     "output_type": "stream",
     "text": [
      "This doesn't \n",
      " execute\n"
     ]
    }
   ],
   "source": [
    "# Escape sequence Character: It is backslash \\ followed by char you want to insert.\n",
    "#print(\"This doesn't \"execute\")\n",
    "print(\"This doesn't \\n execute\")"
   ]
  },
  {
   "cell_type": "code",
   "execution_count": 5,
   "id": "75aa2897-5190-4065-a0a5-7ea349b93b5f",
   "metadata": {},
   "outputs": [
    {
     "name": "stdout",
     "output_type": "stream",
     "text": [
      "Hey Bharti! How’s everything going? Are you working on any new projects or \n",
      "focusing more on freelancing these days?\n"
     ]
    }
   ],
   "source": [
    "print (\"Hey Bharti! How’s everything going? Are you working on any new projects or \\nfocusing more on freelancing these days?\")"
   ]
  },
  {
   "cell_type": "code",
   "execution_count": 6,
   "id": "08141be9-d187-4f92-b4b4-e377fec0de3c",
   "metadata": {},
   "outputs": [
    {
     "name": "stdout",
     "output_type": "stream",
     "text": [
      "Hey Kunal! \n",
      "What are you doing?\n"
     ]
    }
   ],
   "source": [
    "print(\"Hey Kunal! \\nWhat are you doing?\")"
   ]
  },
  {
   "cell_type": "code",
   "execution_count": null,
   "id": "9397a499-44c4-41bb-8179-45c3fd7ebb33",
   "metadata": {},
   "outputs": [],
   "source": [
    "# *Variable* : The Container that holds data. it is smililer to the object. variables can store any type of data.\tVariables are dynamic.\n",
    "# Syntax:\n",
    "# Variable_name = value"
   ]
  },
  {
   "cell_type": "code",
   "execution_count": 7,
   "id": "80c4e3b1-a284-4f85-9bf6-476ebb8dbb61",
   "metadata": {},
   "outputs": [
    {
     "name": "stdout",
     "output_type": "stream",
     "text": [
      "Bhushan Mule\n"
     ]
    }
   ],
   "source": [
    "a= (\"Bhushan Mule\")\n",
    "print(a)"
   ]
  },
  {
   "cell_type": "code",
   "execution_count": 8,
   "id": "5fdaf1d3-8558-4aa9-8c7e-266083259572",
   "metadata": {},
   "outputs": [
    {
     "name": "stdout",
     "output_type": "stream",
     "text": [
      "10\n"
     ]
    }
   ],
   "source": [
    "x=10 # storing value 10 in variable x.\n",
    "print(x) # printing value"
   ]
  },
  {
   "cell_type": "code",
   "execution_count": 9,
   "id": "d87aa4a3-ad13-4dcf-9f07-cc88f2840278",
   "metadata": {},
   "outputs": [
    {
     "name": "stdout",
     "output_type": "stream",
     "text": [
      "21\n"
     ]
    }
   ],
   "source": [
    "age = 21\n",
    "print(age)"
   ]
  },
  {
   "cell_type": "code",
   "execution_count": 10,
   "id": "d8037c14-230e-4969-8f5e-d8525bc13d44",
   "metadata": {},
   "outputs": [
    {
     "name": "stdout",
     "output_type": "stream",
     "text": [
      "True\n"
     ]
    }
   ],
   "source": [
    "is_active= True\n",
    "print(is_active)"
   ]
  },
  {
   "cell_type": "code",
   "execution_count": 1,
   "id": "fed1ca76-8f8e-496d-8efc-ccf2c3a5cc6e",
   "metadata": {},
   "outputs": [
    {
     "name": "stdout",
     "output_type": "stream",
     "text": [
      "30\n"
     ]
    }
   ],
   "source": [
    "a= 10\n",
    "b= 20\n",
    "result= a + b\n",
    "print(result)"
   ]
  },
  {
   "cell_type": "markdown",
   "id": "252a3535-399c-4677-8d9e-c525d84341a9",
   "metadata": {},
   "source": [
    "*STRING OPERATION*:\n",
    "\n",
    "print result with string"
   ]
  },
  {
   "cell_type": "code",
   "execution_count": null,
   "id": "f9f57f38-7719-451b-bbb4-ba71dd47cfd3",
   "metadata": {},
   "outputs": [],
   "source": [
    "9515028827"
   ]
  },
  {
   "cell_type": "code",
   "execution_count": 6,
   "id": "8e51f82e-ce34-4255-ac3a-23ec7e769b59",
   "metadata": {},
   "outputs": [
    {
     "name": "stdout",
     "output_type": "stream",
     "text": [
      "Additinon of 10 and 30 is= 40\n"
     ]
    }
   ],
   "source": [
    "a=10\n",
    "b=30\n",
    "c=a+b\n",
    "print('Additinon of', a , 'and' , b , 'is=' , c)"
   ]
  },
  {
   "cell_type": "code",
   "execution_count": 11,
   "id": "47eb26c3-cc97-441e-a613-37515e1a02e2",
   "metadata": {},
   "outputs": [
    {
     "name": "stdout",
     "output_type": "stream",
     "text": [
      "Hello! \n",
      "I am Kunal \n",
      "my age is 21 \n",
      "i live in csn\n"
     ]
    }
   ],
   "source": [
    "name=\"Kunal\"\n",
    "age =  21\n",
    "live= \"csn\"\n",
    "\n",
    "print(\"Hello! \\nI am\",name, \"\\nmy age is\",age, \"\\ni live in\", live)"
   ]
  },
  {
   "cell_type": "markdown",
   "id": "73724ad8-2201-4114-8a42-20b56cd5461f",
   "metadata": {},
   "source": [
    "#print Format method\n",
    "\n",
    "-first deside how the print statement should be \n",
    "\n",
    "-like:- The addition of 20 and 30 is = 50  \n",
    "\n",
    "-then replace the variable position with curly brtacesm { } \n",
    "\n",
    "-then appply .format(val1,val2,....val-n methodm "
   ]
  },
  {
   "cell_type": "code",
   "execution_count": 12,
   "id": "df650b98-a7fb-47f4-940d-416d6482d16b",
   "metadata": {},
   "outputs": [
    {
     "name": "stdout",
     "output_type": "stream",
     "text": [
      "The addition of 20 and 30 is= 50\n"
     ]
    }
   ],
   "source": [
    "num1=20 \n",
    "num2=30 \n",
    "add=num1+num2 \n",
    "print('The addition of {} and {} is= {}'.format(num1,num2,add)) "
   ]
  },
  {
   "cell_type": "code",
   "execution_count": 15,
   "id": "5620365d-1089-45de-942a-852dc72bcabb",
   "metadata": {},
   "outputs": [
    {
     "name": "stdout",
     "output_type": "stream",
     "text": [
      "The substraction of 40 and3 is=37\n"
     ]
    }
   ],
   "source": [
    "a=40\n",
    "b=3\n",
    "sub=a-b\n",
    "print('The substraction of {} and{} is={}'.format(a,b,sub))"
   ]
  },
  {
   "cell_type": "code",
   "execution_count": 16,
   "id": "6d0db791-538b-4c1b-8e25-cc7312d18b18",
   "metadata": {},
   "outputs": [
    {
     "name": "stdout",
     "output_type": "stream",
     "text": [
      "Hii im hemant my age is 22 i recently join the IT vedant \n"
     ]
    }
   ],
   "source": [
    "name= \"hemant\"\n",
    "c=\"IT vedant\"\n",
    "age=22\n",
    "print('Hii im {} my age is {} i recently join the {} '.format(name,age,c))"
   ]
  },
  {
   "cell_type": "code",
   "execution_count": 17,
   "id": "e41d70bc-d7e2-4cd6-a4a6-748aa9081845",
   "metadata": {},
   "outputs": [
    {
     "name": "stdout",
     "output_type": "stream",
     "text": [
      "The avrage of 20, 30, and 333 is= 127.66666666666667 or 127.67\n"
     ]
    }
   ],
   "source": [
    "num1=100 \n",
    "num2=25 \n",
    "num3=333 \n",
    "num1=20 \n",
    "num2=30 \n",
    "avg=(num1+num2+num3)/3 # or we can use avg=round(num1+num2+num3)/3,2) \n",
    "avg1=round((num1+num2+num3)/3,2) \n",
    "# The avrage of num1,num2,num3 is = avg \n",
    "print('The avrage of {}, {}, and {} is= {} or {}'.format(num1,num2,num3, \n",
    "avg,avg1)) # here we can use round(avg,2) also"
   ]
  },
  {
   "cell_type": "code",
   "execution_count": 24,
   "id": "bf460531-d992-4543-a0c7-584848826884",
   "metadata": {},
   "outputs": [
    {
     "data": {
      "text/plain": [
       "127.67"
      ]
     },
     "execution_count": 24,
     "metadata": {},
     "output_type": "execute_result"
    }
   ],
   "source": [
    "round(avg,2)\n",
    "#round is used for removing the value after the \".\" \n",
    "#round (avg,3------we can get what we put"
   ]
  },
  {
   "cell_type": "markdown",
   "id": "83aee548-be54-4cef-a4cd-cb8b18c5fb66",
   "metadata": {},
   "source": [
    "More short format meythod(f string method) \n",
    "\n",
    "-variable should be in curly braces \n",
    "\n",
    "-and write everything inside quots '' \n",
    "\n",
    "-at starting simpaly add f  "
   ]
  },
  {
   "cell_type": "code",
   "execution_count": null,
   "id": "9359799a-e764-4f9c-b8af-d96e3e5f5279",
   "metadata": {},
   "outputs": [],
   "source": [
    "a=10\n",
    "b=30\n",
    "c=a+b\n",
    "print(f\"Addition of {a} and {b} is {c}\")"
   ]
  },
  {
   "cell_type": "code",
   "execution_count": 26,
   "id": "9f070b3d-26d2-4914-bddb-deb0ced8315c",
   "metadata": {},
   "outputs": [
    {
     "name": "stdout",
     "output_type": "stream",
     "text": [
      "Hii My name is Bhushan. \n",
      "I live in Hyderabad. \n",
      "My age is 21\n"
     ]
    }
   ],
   "source": [
    "name = \"Bhushan\"\n",
    "live= \"Hyderabad\"\n",
    "age= 21\n",
    "print(f\"Hii My name is {name}. \\nI live in {live}. \\nMy age is {age}\")"
   ]
  },
  {
   "cell_type": "code",
   "execution_count": 28,
   "id": "c28f39ba-7fa8-4cbf-9a04-346425b2d41b",
   "metadata": {},
   "outputs": [
    {
     "name": "stdout",
     "output_type": "stream",
     "text": [
      "The addition of 10 and 20 is= 30\n",
      "The addition of 10 and 20 is= 30\n",
      "The addition of 10 and 20 is= 30\n"
     ]
    }
   ],
   "source": [
    "#let combine all \n",
    "num1=10 \n",
    "num2=20 \n",
    "add = num1+ num2 \n",
    "print('The addition of',num1,'and',num2,'is=',add) \n",
    "print('The addition of {} and {} is= {}'.format(num1,num2,add)) \n",
    "print(f'The addition of {num1} and {num2} is= {add}') \n",
    "\n",
    "#three methods gives same output"
   ]
  },
  {
   "cell_type": "markdown",
   "id": "9b490fe0-a926-4148-808a-5e78b9b06c09",
   "metadata": {},
   "source": [
    "End statement "
   ]
  },
  {
   "cell_type": "code",
   "execution_count": 29,
   "id": "8d196d67-4d63-4a6a-8cdb-822e299cf5c9",
   "metadata": {},
   "outputs": [
    {
     "name": "stdout",
     "output_type": "stream",
     "text": [
      "hello\n",
      "good moorning\n"
     ]
    }
   ],
   "source": [
    "print('hello') # 1st statement \n",
    "print('good moorning') # 2nd statement) \n",
    "# i want print like:- hellow good morning "
   ]
  },
  {
   "cell_type": "code",
   "execution_count": 31,
   "id": "92e475ce-040f-4e2a-8c8d-41d24bf3ff5c",
   "metadata": {},
   "outputs": [
    {
     "name": "stdout",
     "output_type": "stream",
     "text": [
      "Hello Have a great day !\n"
     ]
    }
   ],
   "source": [
    "# Here we will use end statement that joint line from end of one string to starting of other string.\n",
    "print(\"Hello \",end='') #printing both line in single line\n",
    "print(\"Have a great day !\")"
   ]
  },
  {
   "cell_type": "markdown",
   "id": "ad727272-69f3-4f31-a012-e42acdeacf88",
   "metadata": {},
   "source": [
    "Python Keywords: Keywords are the predifine or reserved words in python which is used for defining the syntax of python.\n",
    "\n",
    "Examples:['False','None','True','and','as','assert','async','await','break','class','continue','def','del','elif','else','except','finally','for','from','global','if','import','in','is','lambda','nonlocal','not',' or','pass','raise','return','try','while','with','yield']"
   ]
  },
  {
   "cell_type": "markdown",
   "id": "73e4d299-21a2-48d7-a4d4-1f831044cc3c",
   "metadata": {},
   "source": [
    "seprator :\n",
    " \n",
    "-here one print statement only we use \n",
    " \n",
    "-insisde one print statement we have multipal values \n",
    " \n",
    "-we want to seperate these multipal values with anything "
   ]
  },
  {
   "cell_type": "code",
   "execution_count": 33,
   "id": "a5e306b9-79f6-429f-9e85-9e3736b33fd3",
   "metadata": {},
   "outputs": [
    {
     "name": "stdout",
     "output_type": "stream",
     "text": [
      "hello--->hiiiii--->how are you\n"
     ]
    }
   ],
   "source": [
    "print('hello','hiiiii','how are you',sep='--->') "
   ]
  },
  {
   "cell_type": "code",
   "execution_count": 34,
   "id": "c387424c-08b0-4cb6-8939-3cf4b4a83465",
   "metadata": {},
   "outputs": [
    {
     "name": "stdout",
     "output_type": "stream",
     "text": [
      "hello&hai&how are you\n"
     ]
    }
   ],
   "source": [
    "print('hello','hiiiiii','how are you',sep='&') "
   ]
  },
  {
   "cell_type": "code",
   "execution_count": 35,
   "id": "fa0c1a88-4b90-4a68-9b6d-b966e701415e",
   "metadata": {},
   "outputs": [
    {
     "name": "stdout",
     "output_type": "stream",
     "text": [
      "hello@hiiiiii@how are you\n"
     ]
    }
   ],
   "source": [
    "print('hello','hiiiiii','how are you',sep='@') "
   ]
  },
  {
   "cell_type": "code",
   "execution_count": 36,
   "id": "5a42e195-ce1a-4c96-a160-dd6e2eb51958",
   "metadata": {},
   "outputs": [
    {
     "name": "stdout",
     "output_type": "stream",
     "text": [
      "hello hai how are you\n"
     ]
    }
   ],
   "source": [
    "print('hello','hai','how are you',sep=' ')"
   ]
  },
  {
   "cell_type": "code",
   "execution_count": 37,
   "id": "c3eefcbb-f166-4f88-af1f-08bef51426fa",
   "metadata": {},
   "outputs": [
    {
     "name": "stdout",
     "output_type": "stream",
     "text": [
      "3 .\n"
     ]
    }
   ],
   "source": [
    "print(3,'.') # . is far from 3 so here we will use sep method "
   ]
  },
  {
   "cell_type": "code",
   "execution_count": 38,
   "id": "55b29824-2d78-40f3-8d05-70db15ee4906",
   "metadata": {},
   "outputs": [
    {
     "name": "stdout",
     "output_type": "stream",
     "text": [
      "3.\n"
     ]
    }
   ],
   "source": [
    "print(3,'.',sep='') # see now space setteld(also use to remove space B/W words) "
   ]
  },
  {
   "cell_type": "code",
   "execution_count": 40,
   "id": "e3fbf88d-f56c-4008-9a40-ee20e87a3283",
   "metadata": {},
   "outputs": [
    {
     "name": "stdout",
     "output_type": "stream",
     "text": [
      "1 2 3.\n"
     ]
    }
   ],
   "source": [
    "print(1,2,end=' ') \n",
    "print(3,'.',sep='') \n",
    "# will print 1 2 3. "
   ]
  },
  {
   "cell_type": "code",
   "execution_count": 41,
   "id": "c823af05-39d6-41ba-8166-a7d9c8d9887e",
   "metadata": {},
   "outputs": [],
   "source": [
    "## String Methods"
   ]
  },
  {
   "cell_type": "code",
   "execution_count": 42,
   "id": "1154b294-f519-48d6-8ea4-c6463bf0aba0",
   "metadata": {},
   "outputs": [
    {
     "name": "stdout",
     "output_type": "stream",
     "text": [
      "Thirty days of python\n"
     ]
    }
   ],
   "source": [
    "# capitalize(): Converts the first character the string to Capital Letter\n",
    "challenge = 'thirty days of python'\n",
    "print(challenge.capitalize()) # 'Thirty days of python'"
   ]
  },
  {
   "cell_type": "code",
   "execution_count": 67,
   "id": "71002e88-ee06-41bb-bcc1-099739c0636e",
   "metadata": {},
   "outputs": [
    {
     "name": "stdout",
     "output_type": "stream",
     "text": [
      "Hii good evening!\n"
     ]
    }
   ],
   "source": [
    "a=\"hii good evening!\"\n",
    "print(a.capitalize())"
   ]
  },
  {
   "cell_type": "code",
   "execution_count": 43,
   "id": "7bb344b9-0499-4422-ba38-ae7620b07a5c",
   "metadata": {},
   "outputs": [
    {
     "name": "stdout",
     "output_type": "stream",
     "text": [
      "3\n",
      "1\n",
      "2\n"
     ]
    }
   ],
   "source": [
    "# count(): returns occurrences of substring in string, count(substring, start=.., end=..)\n",
    "\n",
    "challenge = 'thirty days of python'\n",
    "print(challenge.count('y')) # 3\n",
    "print(challenge.count('y', 7, 14)) # 1\n",
    "print(challenge.count('th')) # 2`\n"
   ]
  },
  {
   "cell_type": "code",
   "execution_count": 72,
   "id": "64a56f18-ca77-4d1e-95c0-c811348cf558",
   "metadata": {},
   "outputs": [
    {
     "name": "stdout",
     "output_type": "stream",
     "text": [
      "2\n"
     ]
    }
   ],
   "source": [
    "a=\"hii good evening!\"\n",
    "print(a.count('o'))"
   ]
  },
  {
   "cell_type": "code",
   "execution_count": 44,
   "id": "985da9d6-885d-48c9-a00d-0f3dda990af8",
   "metadata": {},
   "outputs": [
    {
     "name": "stdout",
     "output_type": "stream",
     "text": [
      "True\n",
      "False\n"
     ]
    }
   ],
   "source": [
    "# endswith(): Checks if a string ends with a specified ending\n",
    "\n",
    "challenge = 'thirty days of python'\n",
    "print(challenge.endswith('on'))   # True\n",
    "print(challenge.endswith('tion')) # False"
   ]
  },
  {
   "cell_type": "code",
   "execution_count": 76,
   "id": "e982c1cf-9b49-4e4e-aab9-9a2f87fbde4e",
   "metadata": {},
   "outputs": [
    {
     "name": "stdout",
     "output_type": "stream",
     "text": [
      "True\n"
     ]
    }
   ],
   "source": [
    "a=\"hii good evening!\"\n",
    "print(a.endswith('ng!'))"
   ]
  },
  {
   "cell_type": "code",
   "execution_count": 45,
   "id": "990252c2-7dea-48fa-abc0-e7962d38805e",
   "metadata": {},
   "outputs": [
    {
     "name": "stdout",
     "output_type": "stream",
     "text": [
      "thirty  days    of      python\n",
      "thirty    days      of        python\n"
     ]
    }
   ],
   "source": [
    "# expandtabs(): Replaces tab character with spaces, default tab size is 8. It takes tab size argument\\\n",
    "challenge = 'thirty\\tdays\\tof\\tpython'\n",
    "print(challenge.expandtabs())   # 'thirty  days    of      python'\n",
    "print(challenge.expandtabs(10)) # 'thirty    days      of        python'"
   ]
  },
  {
   "cell_type": "code",
   "execution_count": 78,
   "id": "57cd8439-c64a-4219-b140-c0e11b341f62",
   "metadata": {},
   "outputs": [
    {
     "name": "stdout",
     "output_type": "stream",
     "text": [
      "hii     good    evening!\n"
     ]
    }
   ],
   "source": [
    "a=\"hii\\tgood\\tevening!\"\n",
    "print(a.expandtabs())"
   ]
  },
  {
   "cell_type": "code",
   "execution_count": 46,
   "id": "5a5ce134-7ad9-47f0-89d5-7ed192a70dcc",
   "metadata": {},
   "outputs": [
    {
     "name": "stdout",
     "output_type": "stream",
     "text": [
      "5\n",
      "0\n"
     ]
    }
   ],
   "source": [
    "# find(): Returns the index of first occurrence of substring\n",
    "\n",
    "challenge = 'thirty days of python'\n",
    "print(challenge.find('y'))  # 5\n",
    "print(challenge.find('th')) # 0"
   ]
  },
  {
   "cell_type": "code",
   "execution_count": 79,
   "id": "841b8bf8-a460-48cf-986e-a10d5a455c52",
   "metadata": {},
   "outputs": [
    {
     "name": "stdout",
     "output_type": "stream",
     "text": [
      "9\n"
     ]
    }
   ],
   "source": [
    "a=\"hii good evening!\"\n",
    "print(a.find('e'))"
   ]
  },
  {
   "cell_type": "code",
   "execution_count": 47,
   "id": "684d6c18-a318-4d1e-8ef4-f1afb6f95332",
   "metadata": {},
   "outputs": [
    {
     "name": "stdout",
     "output_type": "stream",
     "text": [
      "I am Asabeneh Yetayeh. I am a teacher. I live in Finland.\n"
     ]
    }
   ],
   "source": [
    "\n",
    "# format()\tformats string into nicer output    \n",
    "first_name = 'Asabeneh'\n",
    "last_name = 'Yetayeh'\n",
    "job = 'teacher'\n",
    "country = 'Finland'\n",
    "sentence = 'I am {} {}. I am a {}. I live in {}.'.format(first_name, last_name, job, country)\n",
    "print(sentence) # I am Asabeneh Yetayeh. I am a teacher. I live in Finland.\n",
    "\n"
   ]
  },
  {
   "cell_type": "code",
   "execution_count": 48,
   "id": "49d334bd-39d9-43e4-bccc-be87cccea595",
   "metadata": {},
   "outputs": [
    {
     "name": "stdout",
     "output_type": "stream",
     "text": [
      "The area of circle with 10 is 3.14\n"
     ]
    }
   ],
   "source": [
    "radius = 10\n",
    "pi = 3.14\n",
    "area = pi # radius ## 2\n",
    "result = 'The area of circle with {} is {}'.format(str(radius), str(area))\n",
    "print(result) # The area of circle with 10 is 314.0\n"
   ]
  },
  {
   "cell_type": "code",
   "execution_count": 49,
   "id": "d5b89517-ae26-4d37-aa25-94e3d0d3db2b",
   "metadata": {},
   "outputs": [
    {
     "name": "stdout",
     "output_type": "stream",
     "text": [
      "5\n",
      "0\n"
     ]
    }
   ],
   "source": [
    "\n",
    "# index(): Returns the index of substring\n",
    "challenge = 'thirty days of python'\n",
    "print(challenge.find('y'))  # 5\n",
    "print(challenge.find('th')) # 0"
   ]
  },
  {
   "cell_type": "code",
   "execution_count": 50,
   "id": "6bee44fc-95af-454b-ac09-653585687a0c",
   "metadata": {},
   "outputs": [
    {
     "name": "stdout",
     "output_type": "stream",
     "text": [
      "True\n",
      "True\n",
      "False\n",
      "False\n"
     ]
    }
   ],
   "source": [
    "# isalnum(): Checks alphanumeric character\n",
    "\n",
    "challenge = 'ThirtyDaysPython'\n",
    "print(challenge.isalnum()) # True\n",
    "\n",
    "challenge = '30DaysPython'\n",
    "print(challenge.isalnum()) # True\n",
    "\n",
    "challenge = 'thirty days of python'\n",
    "print(challenge.isalnum()) # False\n",
    "\n",
    "challenge = 'thirty days of python 2019'\n",
    "print(challenge.isalnum()) # False\n"
   ]
  },
  {
   "cell_type": "code",
   "execution_count": 51,
   "id": "f37dbbaf-7953-4426-8d3d-f8aebec95ae7",
   "metadata": {},
   "outputs": [
    {
     "name": "stdout",
     "output_type": "stream",
     "text": [
      "False\n",
      "False\n"
     ]
    }
   ],
   "source": [
    "# isalpha(): Checks if all characters are alphabets\n",
    "\n",
    "challenge = 'thirty days of python'\n",
    "print(challenge.isalpha()) # True\n",
    "num = '123'\n",
    "print(num.isalpha())      # False\n",
    "\n"
   ]
  },
  {
   "cell_type": "code",
   "execution_count": 52,
   "id": "be2e5e70-1249-496d-8df5-f349ea17ffe8",
   "metadata": {},
   "outputs": [
    {
     "name": "stdout",
     "output_type": "stream",
     "text": [
      "5\n",
      "0\n"
     ]
    }
   ],
   "source": [
    "# isdecimal(): Checks Decimal Characters\n",
    "\n",
    "challenge = 'thirty days of python'\n",
    "print(challenge.find('y'))  # 5\n",
    "print(challenge.find('th')) # 0"
   ]
  },
  {
   "cell_type": "code",
   "execution_count": 54,
   "id": "bdbe5223-36cd-4a88-b8bf-9a208e8a8c57",
   "metadata": {},
   "outputs": [
    {
     "name": "stdout",
     "output_type": "stream",
     "text": [
      "False\n",
      "True\n"
     ]
    }
   ],
   "source": [
    "# isdigit(): Checks Digit Characters\n",
    "\n",
    "challenge = 'Thirty'\n",
    "print(challenge.isdigit()) # False\n",
    "challenge = '30'\n",
    "print(challenge.isdigit())   # True\n"
   ]
  },
  {
   "cell_type": "code",
   "execution_count": 55,
   "id": "f6b2dbe5-8174-415f-b076-86ee41823d7b",
   "metadata": {},
   "outputs": [
    {
     "name": "stdout",
     "output_type": "stream",
     "text": [
      "True\n",
      "False\n"
     ]
    }
   ],
   "source": [
    "# isdecimal():Checks decimal characters\n",
    "\n",
    "num = '10'\n",
    "print(num.isdecimal()) # True\n",
    "num = '10.5'\n",
    "print(num.isdecimal()) # False\n"
   ]
  },
  {
   "cell_type": "code",
   "execution_count": 56,
   "id": "bcf04b1b-fdf2-4906-9971-ec53ffbbcee7",
   "metadata": {},
   "outputs": [
    {
     "name": "stdout",
     "output_type": "stream",
     "text": [
      "False\n",
      "True\n"
     ]
    }
   ],
   "source": [
    "# isidentifier():Checks for valid identifier means it check if a string is a valid variable name\n",
    "\n",
    "challenge = '30DaysOfPython'\n",
    "print(challenge.isidentifier()) # False, because it starts with a number\n",
    "challenge = 'thirty_days_of_python'\n",
    "print(challenge.isidentifier()) # True\n"
   ]
  },
  {
   "cell_type": "code",
   "execution_count": 57,
   "id": "1d70e7a2-9a8e-4145-a50a-3ba6e3caef5b",
   "metadata": {},
   "outputs": [
    {
     "name": "stdout",
     "output_type": "stream",
     "text": [
      "True\n",
      "False\n"
     ]
    }
   ],
   "source": [
    "# islower():Checks if all alphabets in a string are lowercase\n",
    "\n",
    "challenge = 'thirty days of python'\n",
    "print(challenge.islower()) # True\n",
    "challenge = 'Thirty days of python'\n",
    "print(challenge.islower()) # False\n"
   ]
  },
  {
   "cell_type": "code",
   "execution_count": 58,
   "id": "49534241-7605-4745-a0ab-ba8ced5fef86",
   "metadata": {},
   "outputs": [
    {
     "name": "stdout",
     "output_type": "stream",
     "text": [
      "False\n",
      "True\n"
     ]
    }
   ],
   "source": [
    "# isupper(): returns if all characters are uppercase characters\n",
    "\n",
    "challenge = 'thirty days of python'\n",
    "print(challenge.isupper()) #  False\n",
    "challenge = 'THIRTY DAYS OF PYTHON'\n",
    "print(challenge.isupper()) # True\n"
   ]
  },
  {
   "cell_type": "code",
   "execution_count": 59,
   "id": "1aad4295-f9a4-4c03-a58c-0bd97fcc4c6f",
   "metadata": {},
   "outputs": [
    {
     "name": "stdout",
     "output_type": "stream",
     "text": [
      "True\n",
      "False\n"
     ]
    }
   ],
   "source": [
    "# isnumeric():Checks numeric characters\n",
    "\n",
    "num = '10'\n",
    "print(num.isnumeric())      # True\n",
    "print('ten'.isnumeric())    # False\n"
   ]
  },
  {
   "cell_type": "code",
   "execution_count": 60,
   "id": "7d2567ba-524a-4dac-938b-2d8cf371d1d8",
   "metadata": {},
   "outputs": [
    {
     "name": "stdout",
     "output_type": "stream",
     "text": [
      "HTML#, CSS#, JavaScript#, React\n"
     ]
    }
   ],
   "source": [
    "# join(): Returns a concatenated string\n",
    "\n",
    "web_tech = ['HTML', 'CSS', 'JavaScript', 'React']\n",
    "result = '#, '.join(web_tech)\n",
    "print(result) # 'HTML# CSS# JavaScript# React'\n"
   ]
  },
  {
   "cell_type": "code",
   "execution_count": 61,
   "id": "1096c7bc-24b2-47d8-8b76-52059d1b199b",
   "metadata": {},
   "outputs": [
    {
     "name": "stdout",
     "output_type": "stream",
     "text": [
      " thirty days of python \n"
     ]
    }
   ],
   "source": [
    "# strip(): Removes both leading and trailing characters\n",
    "\n",
    "challenge = ' thirty days of python '\n",
    "print(challenge.strip('y')) # 5\n"
   ]
  },
  {
   "cell_type": "code",
   "execution_count": 62,
   "id": "5ce640eb-50e7-42b6-a524-f26ddbe3a217",
   "metadata": {},
   "outputs": [
    {
     "name": "stdout",
     "output_type": "stream",
     "text": [
      "thirty days of coding\n"
     ]
    }
   ],
   "source": [
    "# replace(): Replaces substring inside\n",
    "\n",
    "challenge = 'thirty days of python'\n",
    "print(challenge.replace('python', 'coding')) # 'thirty days of coding'\n"
   ]
  },
  {
   "cell_type": "code",
   "execution_count": 63,
   "id": "1d122a7e-c090-44f4-b0d6-8731c82c5fb2",
   "metadata": {},
   "outputs": [
    {
     "name": "stdout",
     "output_type": "stream",
     "text": [
      "['thirty', 'days', 'of', 'python']\n"
     ]
    }
   ],
   "source": [
    "# split():Splits String from Left\n",
    "\n",
    "challenge = 'thirty days of python'\n",
    "print(challenge.split()) # ['thirty', 'days', 'of', 'python']\n"
   ]
  },
  {
   "cell_type": "code",
   "execution_count": 64,
   "id": "a5563781-84a7-41fa-b308-7083bb541f42",
   "metadata": {},
   "outputs": [
    {
     "name": "stdout",
     "output_type": "stream",
     "text": [
      "Thirty Days Of Python\n"
     ]
    }
   ],
   "source": [
    "# title(): Returns a Title Cased String\n",
    "\n",
    "challenge = 'thirty days of python'\n",
    "print(challenge.title()) # Thirty Days Of Python\n"
   ]
  },
  {
   "cell_type": "code",
   "execution_count": 65,
   "id": "06c3b415-54d3-4ac7-b20b-b3a759a9f2bf",
   "metadata": {},
   "outputs": [
    {
     "name": "stdout",
     "output_type": "stream",
     "text": [
      "THIRTY DAYS OF PYTHON\n",
      "tHIRTY dAYS oF pYTHON\n"
     ]
    }
   ],
   "source": [
    "# swapcase(): Checks if String Starts with the Specified String\n",
    "  \n",
    "challenge = 'thirty days of python'\n",
    "print(challenge.swapcase())   # THIRTY DAYS OF PYTHON\n",
    "challenge = 'Thirty Days Of Python'\n",
    "print(challenge.swapcase())  # tHIRTY dAYS oF pYTHON\n"
   ]
  },
  {
   "cell_type": "code",
   "execution_count": 66,
   "id": "5f3fa1c4-272b-4f90-b66b-785a6babad16",
   "metadata": {},
   "outputs": [
    {
     "name": "stdout",
     "output_type": "stream",
     "text": [
      "True\n",
      "False\n"
     ]
    }
   ],
   "source": [
    "# startswith(): Checks if String Starts with the Specified String\n",
    "\n",
    "challenge = 'thirty days of python'\n",
    "print(challenge.startswith('thirty')) # True\n",
    "challenge = '30 days of python'\n",
    "print(challenge.startswith('thirty')) # False"
   ]
  },
  {
   "cell_type": "code",
   "execution_count": null,
   "id": "10fd4085-0fee-407b-b6bd-bb1dfe2cbf65",
   "metadata": {},
   "outputs": [],
   "source": []
  },
  {
   "cell_type": "code",
   "execution_count": null,
   "id": "a9c97092-35fd-4838-ad2f-2c3c58f32fdb",
   "metadata": {},
   "outputs": [],
   "source": []
  },
  {
   "cell_type": "code",
   "execution_count": null,
   "id": "a5929d20-2ed1-44b5-be01-7ccefea949e1",
   "metadata": {},
   "outputs": [],
   "source": []
  },
  {
   "cell_type": "markdown",
   "id": "e4afd6a6-9669-426a-a16d-9327d6dde136",
   "metadata": {},
   "source": [
    "*VARIABLES*:"
   ]
  },
  {
   "cell_type": "code",
   "execution_count": 12,
   "id": "2acf0ab0-d4d4-4303-9aee-eada71a23b3d",
   "metadata": {},
   "outputs": [],
   "source": [
    "# Variables in Python\n",
    "first_name = 'Kunal'\n",
    "last_name = 'Gaikwad'\n",
    "country = 'India'\n",
    "city = 'TELENGANA'\n",
    "age = 21\n",
    "is_married = False\n",
    "skills = ['HTML', 'CSS', 'JS', 'React', 'Python']\n",
    "person_info = {\n",
    "    'firstname':'BHushan ', \n",
    "    'lastname':'Mule', \n",
    "    'country':'India',\n",
    "    'city':'Beed'\n",
    "    }"
   ]
  },
  {
   "cell_type": "code",
   "execution_count": 15,
   "id": "9a6b835a-e8f1-464e-9838-0ece5207b7d0",
   "metadata": {},
   "outputs": [
    {
     "name": "stdout",
     "output_type": "stream",
     "text": [
      "First name: Kunal\n",
      "First name length: 5\n",
      "Last name:  Gaikwad\n",
      "Last name length:  7\n",
      "Country:  India\n",
      "City:  TELENGANA\n",
      "Age:  21\n",
      "Married:  False\n",
      "Skills:  ['HTML', 'CSS', 'JS', 'React', 'Python']\n",
      "Person information:  {'firstname': 'BHushan ', 'lastname': 'Mule', 'country': 'India', 'city': 'Beed'}\n"
     ]
    }
   ],
   "source": [
    "# Printing the values stored in the variables\n",
    "\n",
    "print('First name:' , first_name)\n",
    "print('First name length:', len(first_name))\n",
    "print('Last name: ', last_name)\n",
    "print('Last name length: ', len(last_name))\n",
    "print('Country: ', country)\n",
    "print('City: ', city)\n",
    "print('Age: ', age)\n",
    "print('Married: ', is_married)\n",
    "print('Skills: ', skills)\n",
    "print('Person information: ', person_info)"
   ]
  },
  {
   "cell_type": "markdown",
   "id": "af8ad611",
   "metadata": {},
   "source": [
    "Declaring multiple variables in one line:"
   ]
  },
  {
   "cell_type": "code",
   "execution_count": 25,
   "id": "a23627bd-b7fd-4e71-92fe-1131452881f9",
   "metadata": {},
   "outputs": [
    {
     "name": "stdout",
     "output_type": "stream",
     "text": [
      "First name: Bhushan\n",
      "Last name:  Mule\n",
      "Country:  India\n",
      "Age:  21\n",
      "Married:  True\n"
     ]
    }
   ],
   "source": [
    "# Declaring multiple variables in one line\n",
    "first_name, last_name, country, age, is_married = 'Bhushan', 'Mule', 'India', 21, True\n",
    "\n",
    "\n",
    "print('First name:', first_name)\n",
    "print('Last name: ', last_name)\n",
    "print('Country: ', country)\n",
    "print('Age: ', age)\n",
    "print('Married: ', is_married)"
   ]
  },
  {
   "cell_type": "code",
   "execution_count": 26,
   "id": "38b3bc7a-1b0b-41dc-8ce5-a4019838c41e",
   "metadata": {},
   "outputs": [
    {
     "name": "stdout",
     "output_type": "stream",
     "text": [
      "First Name: Kunal\n",
      "Last Name: Gaikwad\n",
      "Country: India\n",
      "State: Maharashtra\n",
      "Mobile Number: 7249102868\n",
      "Age: 21\n",
      "Gender: Male\n"
     ]
    }
   ],
   "source": [
    "f_name, l_name , country, state, mobile_num, age, gender = 'Kunal', 'Gaikwad', 'India' , 'Maharashtra' , 7249102868, 21, 'Male' \n",
    "\n",
    "print(\"First Name:\",f_name)\n",
    "print(\"Last Name:\", l_name)\n",
    "print(\"Country:\" ,country)\n",
    "print(\"State:\" , state)\n",
    "print(\"Mobile Number:\", mobile_num)\n",
    "print(\"Age:\", age)\n",
    "print(\"Gender:\" , gender)"
   ]
  },
  {
   "cell_type": "markdown",
   "id": "29c35047",
   "metadata": {},
   "source": [
    "Single line comment:"
   ]
  },
  {
   "cell_type": "code",
   "execution_count": null,
   "id": "3bc2da00-fe70-4371-adaf-ff9f742daac9",
   "metadata": {},
   "outputs": [],
   "source": [
    "# Single line comment\n",
    "letter = 'P'                # A string could be a single character or a bunch of texts\n",
    "print(letter)               # P\n",
    "print(len(letter))          # 1\n",
    "greeting = 'Hello, World!'  # String could be  a single or double quote,\"Hello, World!\"\n",
    "print(greeting)             # Hello, World!\n",
    "print(len(greeting))        # 13\n",
    "sentence = \"I hope you are enjoying 30 days of python challenge\"\n",
    "print(sentence)\n"
   ]
  },
  {
   "cell_type": "markdown",
   "id": "60069062",
   "metadata": {},
   "source": [
    "Multiline String:"
   ]
  },
  {
   "cell_type": "code",
   "execution_count": 28,
   "id": "0da4a4b5-2574-4dec-bb2d-2635a7977156",
   "metadata": {},
   "outputs": [
    {
     "name": "stdout",
     "output_type": "stream",
     "text": [
      "I am a teacher and enjoy teaching.\n",
      "I didn't find anything as rewarding as empowering people.\n",
      "That is why I created 30 days of python.\n"
     ]
    }
   ],
   "source": [
    "# Multiline String\n",
    "multiline_string = '''I am a teacher and enjoy teaching.\n",
    "I didn't find anything as rewarding as empowering people.\n",
    "That is why I created 30 days of python.'''\n",
    "print(multiline_string)"
   ]
  },
  {
   "cell_type": "code",
   "execution_count": 27,
   "id": "86c048ad-8f26-4dcd-a598-5858c00ece73",
   "metadata": {},
   "outputs": [
    {
     "name": "stdout",
     "output_type": "stream",
     "text": [
      "I am a teacher and enjoy teaching.\n",
      "I didn't find anything as rewarding as empowering people.\n",
      "That is why I created 30 days of python.\n"
     ]
    }
   ],
   "source": [
    "# Another way of doing the same thing\n",
    "multiline_string = \"\"\"I am a teacher and enjoy teaching.\n",
    "I didn't find anything as rewarding as empowering people.\n",
    "That is why I created 30 days of python.\"\"\"\n",
    "print(multiline_string)\n"
   ]
  },
  {
   "cell_type": "markdown",
   "id": "15055a55",
   "metadata": {},
   "source": [
    "Concatenating String - adding two variable\n"
   ]
  },
  {
   "cell_type": "code",
   "execution_count": 29,
   "id": "91271714-bb85-4713-844a-12fb6812f571",
   "metadata": {},
   "outputs": [
    {
     "name": "stdout",
     "output_type": "stream",
     "text": [
      "Kunal Gaikwad\n"
     ]
    }
   ],
   "source": [
    "# Concatenating String - adding two variable \n",
    "first_name = \"Kunal\" \n",
    "last_name = \"Gaikwad\"\n",
    "full_name = first_name + \" \" +last_name\n",
    "print (full_name)"
   ]
  },
  {
   "cell_type": "code",
   "execution_count": 31,
   "id": "11cc9ed1-cb71-41b4-b2b3-ea99f3817cf2",
   "metadata": {},
   "outputs": [
    {
     "name": "stdout",
     "output_type": "stream",
     "text": [
      "5\n",
      "7\n",
      "False\n",
      "13\n"
     ]
    }
   ],
   "source": [
    "# Checking length of a string using len() builtin function\n",
    "print(len(first_name))  # 5\n",
    "print(len(last_name))   # 7\n",
    "print(len(first_name) > len(last_name)) # True\n",
    "print(len(full_name)) # 13"
   ]
  },
  {
   "cell_type": "markdown",
   "id": "194d4e80",
   "metadata": {},
   "source": [
    "Type Function :"
   ]
  },
  {
   "cell_type": "code",
   "execution_count": 33,
   "id": "a33e1ecf-01f3-4444-a77b-02a13b0beef3",
   "metadata": {},
   "outputs": [
    {
     "data": {
      "text/plain": [
       "int"
      ]
     },
     "execution_count": 33,
     "metadata": {},
     "output_type": "execute_result"
    }
   ],
   "source": [
    "# Type Function - Used for to understand which type data is to be store in variable.\n",
    "a=10\n",
    "type(a)"
   ]
  },
  {
   "cell_type": "code",
   "execution_count": 34,
   "id": "8a0b73d0-db79-4407-ac97-54475f799e10",
   "metadata": {},
   "outputs": [
    {
     "data": {
      "text/plain": [
       "float"
      ]
     },
     "execution_count": 34,
     "metadata": {},
     "output_type": "execute_result"
    }
   ],
   "source": [
    "x= 32.0\n",
    "type(x)"
   ]
  },
  {
   "cell_type": "markdown",
   "id": "b485326c",
   "metadata": {},
   "source": [
    "Unpacking characters :"
   ]
  },
  {
   "cell_type": "code",
   "execution_count": null,
   "id": "15e2274d-4d9c-48d8-a701-4ff32f487a95",
   "metadata": {},
   "outputs": [],
   "source": [
    "#### Unpacking characters \n",
    "language = 'Python'\n",
    "a,b,c,d,e,f = language # unpacking sequence characters into variables\n",
    "print(a) # P\n",
    "print(b) # y\n",
    "print(c) # t \n",
    "print(d) # h\n",
    "print(e) # o\n",
    "print(f) # n\n"
   ]
  },
  {
   "cell_type": "code",
   "execution_count": null,
   "id": "375520e7-0183-4312-a82a-819bee7b0afc",
   "metadata": {},
   "outputs": [],
   "source": [
    "name = \"Kunal\"\n",
    "a,b,c,d,e = name\n",
    "print(c)\n",
    "print(a)"
   ]
  },
  {
   "cell_type": "code",
   "execution_count": null,
   "id": "e41d159d-657b-4270-babc-e8121747982e",
   "metadata": {},
   "outputs": [],
   "source": [
    "animal= \"dog\"\n",
    "a,b,c=animal\n",
    "print(b)"
   ]
  },
  {
   "cell_type": "code",
   "execution_count": null,
   "id": "98eba49d-2c94-4ee8-a5ba-9b2c8954edf1",
   "metadata": {},
   "outputs": [],
   "source": [
    "car = \"Porsche\"\n",
    "a,b,c,d,e,f,g=car\n",
    "print(b)"
   ]
  },
  {
   "cell_type": "markdown",
   "id": "e578e840",
   "metadata": {},
   "source": [
    "Accessing characters in strings by index:"
   ]
  },
  {
   "cell_type": "code",
   "execution_count": null,
   "id": "2facdb98-81ad-4470-a98a-f46c1e232f45",
   "metadata": {},
   "outputs": [],
   "source": [
    "# Accessing characters in strings by index\n",
    "language = 'Python'\n",
    "first_letter = language[0]\n",
    "print(first_letter) # P\n",
    "second_letter = language[1]\n",
    "print(second_letter) # y\n",
    "last_index = len(language) - 1\n",
    "last_letter = language[last_index]\n",
    "print(last_letter) # n\n"
   ]
  },
  {
   "cell_type": "code",
   "execution_count": null,
   "id": "ab86a4bd-eeec-4103-b17c-f58b2e23453b",
   "metadata": {},
   "outputs": [],
   "source": [
    "name= \"kunal\"\n",
    "first_letter= name[0]\n",
    "print(first_letter)\n",
    "\n",
    "second_letter= name[1]\n",
    "print(second_letter)\n",
    "\n",
    "last_index = len(name) - 1\n",
    "last_letter = name[last_index]\n",
    "print(last_letter)"
   ]
  },
  {
   "cell_type": "code",
   "execution_count": null,
   "id": "6eeb2294-3a23-4065-8fdc-185a8034fbbd",
   "metadata": {},
   "outputs": [],
   "source": [
    "# If we want to start from right end we can use negative indexing. -1 is the last index\n",
    "language = 'Python'\n",
    "last_letter = language[-1]\n",
    "  print(last_letter) # n\n",
    "second_last = language[-2]\n",
    "print(second_last) # o\n"
   ]
  },
  {
   "cell_type": "code",
   "execution_count": null,
   "id": "5c7edee4-87b3-449b-8a15-42767e924fe6",
   "metadata": {},
   "outputs": [],
   "source": [
    "name=\"Bhushan\"\n",
    "last_letter=name[-1]\n",
    "print(last_letter)\n",
    "\n",
    "second_last=name[-2]\n",
    "print(second_last)"
   ]
  },
  {
   "cell_type": "markdown",
   "id": "8250e71b",
   "metadata": {},
   "source": [
    "Slicing:"
   ]
  },
  {
   "cell_type": "code",
   "execution_count": 74,
   "id": "ff6dc7d9-86ee-4663-99f8-68568783b81f",
   "metadata": {},
   "outputs": [
    {
     "name": "stdout",
     "output_type": "stream",
     "text": [
      "hon\n"
     ]
    }
   ],
   "source": [
    "# Slicing\n",
    "language = 'Pythonk'\n",
    "first_three = language[0:3] # starts at zero index and up to 3 but not include 3\n",
    "last_three = language[3:6]\n",
    "print(last_three) # hon\n"
   ]
  },
  {
   "cell_type": "code",
   "execution_count": 75,
   "id": "1d6f6f31-9624-4a80-aedb-a7898d0fcd50",
   "metadata": {},
   "outputs": [
    {
     "name": "stdout",
     "output_type": "stream",
     "text": [
      "onk\n",
      "honk\n"
     ]
    }
   ],
   "source": [
    "\n",
    "# Another way\n",
    "last_three = language[-3:]\n",
    "print(last_three)   # hon\n",
    "last_three = language[3:]\n",
    "print(last_three)   # hon"
   ]
  },
  {
   "cell_type": "code",
   "execution_count": 76,
   "id": "c9ab8d5b-42a4-4024-b526-2ab86e83618e",
   "metadata": {},
   "outputs": [
    {
     "name": "stdout",
     "output_type": "stream",
     "text": [
      "He\n",
      "mant\n"
     ]
    }
   ],
   "source": [
    "name= \"Hemant\"\n",
    "\n",
    "f_two=name[0:2]\n",
    "l_two=name[2:6]\n",
    "\n",
    "print(f_two)\n",
    "print(l_two)"
   ]
  },
  {
   "cell_type": "code",
   "execution_count": 77,
   "id": "73c2d194-c95c-4098-b895-9ca72e05413a",
   "metadata": {},
   "outputs": [
    {
     "name": "stdout",
     "output_type": "stream",
     "text": [
      "Pto\n"
     ]
    }
   ],
   "source": [
    "# Skipping character while splitting Python strings\n",
    "language = 'Python'\n",
    "pto = language[0:6:2] # \n",
    "print(pto) # pto\n"
   ]
  },
  {
   "cell_type": "code",
   "execution_count": 78,
   "id": "44904f9d-d42b-46d2-a5b9-7b5d51541d93",
   "metadata": {},
   "outputs": [
    {
     "name": "stdout",
     "output_type": "stream",
     "text": [
      "Bhu\n"
     ]
    }
   ],
   "source": [
    "name= \"Bhushanmule\"\n",
    "a= name[0:11:4]\n",
    "print(a)"
   ]
  },
  {
   "cell_type": "code",
   "execution_count": 79,
   "id": "2cf49c23-a497-4270-899a-4a28eb80b86e",
   "metadata": {},
   "outputs": [
    {
     "name": "stdout",
     "output_type": "stream",
     "text": [
      "kaaw\n"
     ]
    }
   ],
   "source": [
    "name = \"kunalgaikwad\"\n",
    "b= name[0:12:3]\n",
    "print(b)\n"
   ]
  },
  {
   "cell_type": "code",
   "execution_count": 70,
   "id": "9138f3bf-f13e-4c60-8a04-c98a60e53577",
   "metadata": {},
   "outputs": [
    {
     "name": "stdout",
     "output_type": "stream",
     "text": [
      "tnameh\n"
     ]
    }
   ],
   "source": [
    "#to reverse a string \n",
    "name= \"hemant\"\n",
    "revers=name[::-1]\n",
    "print(revers)"
   ]
  },
  {
   "cell_type": "markdown",
   "id": "423e97e7",
   "metadata": {},
   "source": [
    "String Methods:"
   ]
  },
  {
   "cell_type": "code",
   "execution_count": 80,
   "id": "7ffd99e8-757d-41f4-b8ca-aee6f15b60f1",
   "metadata": {},
   "outputs": [
    {
     "name": "stdout",
     "output_type": "stream",
     "text": [
      "Thirty days of python\n"
     ]
    }
   ],
   "source": [
    "## String Methods\n",
    "# capitalize(): Converts the first character the string to Capital Letter\n",
    "\n",
    "challenge = 'thirty days of python'\n",
    "print(challenge.capitalize()) # 'Thirty days of python'"
   ]
  },
  {
   "cell_type": "code",
   "execution_count": 7,
   "id": "4e908ffd-72d4-4fc4-9ccd-8d95dbb888a4",
   "metadata": {},
   "outputs": [
    {
     "name": "stdout",
     "output_type": "stream",
     "text": [
      "3\n",
      "1\n",
      "2\n"
     ]
    }
   ],
   "source": [
    "# count(): returns occurrences of substring in string, count(substring, start=.., end=..)\n",
    "\n",
    "challenge = 'thirty days of python'\n",
    "print(challenge.count('y')) # 3\n",
    "print(challenge.count('y', 7, 14)) # 1\n",
    "print(challenge.count('th')) # 2`\n"
   ]
  },
  {
   "cell_type": "code",
   "execution_count": 8,
   "id": "b86f6b2a",
   "metadata": {},
   "outputs": [
    {
     "name": "stdout",
     "output_type": "stream",
     "text": [
      "True\n",
      "False\n"
     ]
    }
   ],
   "source": [
    "# endswith(): Checks if a string ends with a specified ending\n",
    "\n",
    "challenge = 'thirty days of python'\n",
    "print(challenge.endswith('on'))   # True\n",
    "print(challenge.endswith('tion')) # False\n"
   ]
  },
  {
   "cell_type": "code",
   "execution_count": 9,
   "id": "d609ab27",
   "metadata": {},
   "outputs": [
    {
     "name": "stdout",
     "output_type": "stream",
     "text": [
      "thirty  days    of      python\n",
      "thirty    days      of        python\n"
     ]
    }
   ],
   "source": [
    "# expandtabs(): Replaces tab character with spaces, default tab size is 8. It takes tab size argument\n",
    "\n",
    "challenge = 'thirty\\tdays\\tof\\tpython'\n",
    "print(challenge.expandtabs())   # 'thirty  days    of      python'\n",
    "print(challenge.expandtabs(10)) # 'thirty    days      of        python'\n"
   ]
  },
  {
   "cell_type": "code",
   "execution_count": 10,
   "id": "8f851170",
   "metadata": {},
   "outputs": [
    {
     "name": "stdout",
     "output_type": "stream",
     "text": [
      "5\n",
      "0\n"
     ]
    }
   ],
   "source": [
    "# find(): Returns the index of first occurrence of substring\n",
    "\n",
    "challenge = 'thirty days of python'\n",
    "print(challenge.find('y'))  # 5\n",
    "print(challenge.find('th')) # 0\n"
   ]
  },
  {
   "cell_type": "code",
   "execution_count": 11,
   "id": "ea69affd",
   "metadata": {},
   "outputs": [
    {
     "name": "stdout",
     "output_type": "stream",
     "text": [
      "I am Asabeneh Yetayeh. I am a teacher. I live in Finland.\n"
     ]
    }
   ],
   "source": [
    "# format()\tformats string into nicer output    \n",
    "first_name = 'Asabeneh'\n",
    "last_name = 'Yetayeh'\n",
    "job = 'teacher'\n",
    "country = 'Finland'\n",
    "sentence = 'I am {} {}. I am a {}. I live in {}.'.format(first_name, last_name, job, country)\n",
    "print(sentence) # I am Asabeneh Yetayeh. I am a teacher. I live in Finland.\n"
   ]
  },
  {
   "cell_type": "code",
   "execution_count": 12,
   "id": "f2ddc7d3",
   "metadata": {},
   "outputs": [
    {
     "name": "stdout",
     "output_type": "stream",
     "text": [
      "The area of circle with 10 is 3.14\n"
     ]
    }
   ],
   "source": [
    "radius = 10\n",
    "pi = 3.14\n",
    "area = pi # radius ## 2\n",
    "result = 'The area of circle with {} is {}'.format(str(radius), str(area))\n",
    "print(result) # The area of circle with 10 is 314.0\n"
   ]
  },
  {
   "cell_type": "code",
   "execution_count": 13,
   "id": "ed200f62",
   "metadata": {},
   "outputs": [
    {
     "name": "stdout",
     "output_type": "stream",
     "text": [
      "5\n",
      "0\n"
     ]
    }
   ],
   "source": [
    "\n",
    "# index(): Returns the index of substring\n",
    "challenge = 'thirty days of python'\n",
    "print(challenge.find('y'))  # 5\n",
    "print(challenge.find('th')) # 0\n"
   ]
  },
  {
   "cell_type": "code",
   "execution_count": 14,
   "id": "fc00c8de",
   "metadata": {},
   "outputs": [
    {
     "name": "stdout",
     "output_type": "stream",
     "text": [
      "True\n",
      "True\n",
      "False\n",
      "False\n"
     ]
    }
   ],
   "source": [
    "# isalnum(): Checks alphanumeric character\n",
    "\n",
    "challenge = 'ThirtyDaysPython'\n",
    "print(challenge.isalnum()) # True\n",
    "\n",
    "challenge = '30DaysPython'\n",
    "print(challenge.isalnum()) # True\n",
    "\n",
    "challenge = 'thirty days of python'\n",
    "print(challenge.isalnum()) # False\n",
    "\n",
    "challenge = 'thirty days of python 2019'\n",
    "print(challenge.isalnum()) # False\n"
   ]
  },
  {
   "cell_type": "code",
   "execution_count": 15,
   "id": "9a150aea",
   "metadata": {},
   "outputs": [
    {
     "name": "stdout",
     "output_type": "stream",
     "text": [
      "False\n",
      "False\n"
     ]
    }
   ],
   "source": [
    "# isalpha(): Checks if all characters are alphabets\n",
    "\n",
    "challenge = 'thirty days of python'\n",
    "print(challenge.isalpha()) # True\n",
    "num = '123'\n",
    "print(num.isalpha())      # False\n"
   ]
  },
  {
   "cell_type": "code",
   "execution_count": 16,
   "id": "8fd5e973",
   "metadata": {},
   "outputs": [
    {
     "name": "stdout",
     "output_type": "stream",
     "text": [
      "5\n",
      "0\n"
     ]
    }
   ],
   "source": [
    "# isdecimal(): Checks Decimal Characters\n",
    "\n",
    "challenge = 'thirty days of python'\n",
    "print(challenge.find('y'))  # 5\n",
    "print(challenge.find('th')) # 0\n"
   ]
  },
  {
   "cell_type": "code",
   "execution_count": 18,
   "id": "62b87d54",
   "metadata": {},
   "outputs": [
    {
     "name": "stdout",
     "output_type": "stream",
     "text": [
      "False\n",
      "True\n"
     ]
    }
   ],
   "source": [
    "\n",
    "# isdigit(): Checks Digit Characters\n",
    "\n",
    "challenge = 'Thirty'\n",
    "print(challenge.isdigit()) # False\n",
    "challenge = '30'\n",
    "print(challenge.isdigit())   # True\n"
   ]
  },
  {
   "cell_type": "code",
   "execution_count": 19,
   "id": "f50743d9",
   "metadata": {},
   "outputs": [
    {
     "name": "stdout",
     "output_type": "stream",
     "text": [
      "True\n",
      "False\n"
     ]
    }
   ],
   "source": [
    "# isdecimal():Checks decimal characters\n",
    "\n",
    "num = '10'\n",
    "print(num.isdecimal()) # True\n",
    "num = '10.5'\n",
    "print(num.isdecimal()) # False\n"
   ]
  },
  {
   "cell_type": "code",
   "execution_count": 20,
   "id": "cc3d07ad",
   "metadata": {},
   "outputs": [
    {
     "name": "stdout",
     "output_type": "stream",
     "text": [
      "False\n",
      "True\n"
     ]
    }
   ],
   "source": [
    "# isidentifier():Checks for valid identifier means it check if a string is a valid variable name\n",
    "\n",
    "challenge = '30DaysOfPython'\n",
    "print(challenge.isidentifier()) # False, because it starts with a number\n",
    "challenge = 'thirty_days_of_python'\n",
    "print(challenge.isidentifier()) # True\n",
    "\n"
   ]
  },
  {
   "cell_type": "code",
   "execution_count": 21,
   "id": "399c827f",
   "metadata": {},
   "outputs": [
    {
     "name": "stdout",
     "output_type": "stream",
     "text": [
      "True\n",
      "False\n"
     ]
    }
   ],
   "source": [
    "# islower():Checks if all alphabets in a string are lowercase\n",
    "\n",
    "challenge = 'thirty days of python'\n",
    "print(challenge.islower()) # True\n",
    "challenge = 'Thirty days of python'\n",
    "print(challenge.islower()) # False\n"
   ]
  },
  {
   "cell_type": "code",
   "execution_count": 23,
   "id": "d4a70f2a",
   "metadata": {},
   "outputs": [
    {
     "name": "stdout",
     "output_type": "stream",
     "text": [
      "False\n",
      "True\n"
     ]
    }
   ],
   "source": [
    "# isupper(): returns if all characters are uppercase characters\n",
    "\n",
    "challenge = 'thirty days of python'\n",
    "print(challenge.isupper()) #  False\n",
    "challenge = 'THIRTY DAYS OF PYTHON'\n",
    "print(challenge.isupper()) # True\n",
    "\n"
   ]
  },
  {
   "cell_type": "code",
   "execution_count": 24,
   "id": "2cb5b1a2",
   "metadata": {},
   "outputs": [
    {
     "name": "stdout",
     "output_type": "stream",
     "text": [
      "True\n",
      "False\n"
     ]
    }
   ],
   "source": [
    "# isnumeric():Checks numeric characters\n",
    "\n",
    "num = '10'\n",
    "print(num.isnumeric())      # True\n",
    "print('ten'.isnumeric())    # False\n"
   ]
  },
  {
   "cell_type": "code",
   "execution_count": 25,
   "id": "6224f505",
   "metadata": {},
   "outputs": [
    {
     "name": "stdout",
     "output_type": "stream",
     "text": [
      "HTML#, CSS#, JavaScript#, React\n"
     ]
    }
   ],
   "source": [
    "# join(): Returns a concatenated string\n",
    "\n",
    "web_tech = ['HTML', 'CSS', 'JavaScript', 'React']\n",
    "result = '#, '.join(web_tech)\n",
    "print(result) # 'HTML# CSS# JavaScript# React'\n"
   ]
  },
  {
   "cell_type": "code",
   "execution_count": 26,
   "id": "5203eae6",
   "metadata": {},
   "outputs": [
    {
     "name": "stdout",
     "output_type": "stream",
     "text": [
      " thirty days of python \n"
     ]
    }
   ],
   "source": [
    "# strip(): Removes both leading and trailing characters\n",
    "\n",
    "challenge = ' thirty days of python '\n",
    "print(challenge.strip('y')) # 5\n",
    "\n"
   ]
  },
  {
   "cell_type": "code",
   "execution_count": 27,
   "id": "8f610218",
   "metadata": {},
   "outputs": [
    {
     "name": "stdout",
     "output_type": "stream",
     "text": [
      "thirty days of coding\n"
     ]
    }
   ],
   "source": [
    "# replace(): Replaces substring inside\n",
    "\n",
    "challenge = 'thirty days of python'\n",
    "print(challenge.replace('python', 'coding')) # 'thirty days of coding'\n"
   ]
  },
  {
   "cell_type": "code",
   "execution_count": 28,
   "id": "bdac1164",
   "metadata": {},
   "outputs": [
    {
     "name": "stdout",
     "output_type": "stream",
     "text": [
      "['thirty', 'days', 'of', 'python']\n"
     ]
    }
   ],
   "source": [
    "# split():Splits String from Left\n",
    "\n",
    "challenge = 'thirty days of python'\n",
    "print(challenge.split()) # ['thirty', 'days', 'of', 'python']\n"
   ]
  },
  {
   "cell_type": "code",
   "execution_count": 29,
   "id": "872f288f",
   "metadata": {},
   "outputs": [
    {
     "name": "stdout",
     "output_type": "stream",
     "text": [
      "Thirty Days Of Python\n"
     ]
    }
   ],
   "source": [
    "# title(): Returns a Title Cased String\n",
    "\n",
    "challenge = 'thirty days of python'\n",
    "print(challenge.title()) # Thirty Days Of Python\n",
    "\n"
   ]
  },
  {
   "cell_type": "code",
   "execution_count": 30,
   "id": "82b161e7",
   "metadata": {},
   "outputs": [
    {
     "name": "stdout",
     "output_type": "stream",
     "text": [
      "THIRTY DAYS OF PYTHON\n",
      "tHIRTY dAYS oF pYTHON\n"
     ]
    }
   ],
   "source": [
    "# swapcase(): Checks if String Starts with the Specified String\n",
    "  \n",
    "challenge = 'thirty days of python'\n",
    "print(challenge.swapcase())   # THIRTY DAYS OF PYTHON\n",
    "challenge = 'Thirty Days Of Python'\n",
    "print(challenge.swapcase())  # tHIRTY dAYS oF pYTHON\n"
   ]
  },
  {
   "cell_type": "code",
   "execution_count": 31,
   "id": "c01c8c3f-6b8f-4c2e-99f3-1724710ed642",
   "metadata": {},
   "outputs": [
    {
     "name": "stdout",
     "output_type": "stream",
     "text": [
      "True\n",
      "False\n"
     ]
    }
   ],
   "source": [
    "# startswith(): Checks if String Starts with the Specified String\n",
    "\n",
    "challenge = 'thirty days of python'\n",
    "print(challenge.startswith('thirty')) # True\n",
    "challenge = '30 days of python'\n",
    "print(challenge.startswith('thirty')) # False"
   ]
  }
 ],
 "metadata": {
  "kernelspec": {
   "display_name": "Python 3",
   "language": "python",
   "name": "python3"
  },
  "language_info": {
   "codemirror_mode": {
    "name": "ipython",
    "version": 3
   },
   "file_extension": ".py",
   "mimetype": "text/x-python",
   "name": "python",
   "nbconvert_exporter": "python",
   "pygments_lexer": "ipython3",
   "version": "3.11.9"
  }
 },
 "nbformat": 4,
 "nbformat_minor": 5
}
